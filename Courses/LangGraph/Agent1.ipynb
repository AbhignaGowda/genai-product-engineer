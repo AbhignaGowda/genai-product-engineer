{
 "cells": [
  {
   "cell_type": "code",
   "execution_count": 2,
   "metadata": {},
   "outputs": [],
   "source": [
    "from typing import Dict ,TypedDict\n",
    "from langgraph.graph import StateGraph"
   ]
  },
  {
   "cell_type": "code",
   "execution_count": 3,
   "metadata": {},
   "outputs": [],
   "source": [
    "class AgentState(TypedDict): #Our state schema\n",
    "    message :str\n",
    "\n",
    "def greeting_node(state: AgentState) -> AgentState:\n",
    "    \"\"\"  Simple node that adds a greeting message to the state\"\"\"\n",
    "    state['message'] = \"Hey\" + state[\"message\"] + \", how is your day going?\"\n",
    "\n",
    "    return state"
   ]
  },
  {
   "cell_type": "code",
   "execution_count": null,
   "metadata": {},
   "outputs": [],
   "source": [
    "\n",
    "graph=StateGraph(AgentState)\n",
    "\n",
    "graph.add_node(\"greeter\",greeting_node)\n",
    "\n",
    "graph.set_entry_point(\"greeter\")\n",
    "graph.set_finish_point(\"greeter\")\n",
    "\n",
    "app = graph.compile()"
   ]
  },
  {
   "cell_type": "code",
   "execution_count": 5,
   "metadata": {},
   "outputs": [],
   "source": [
    "result=app.invoke({\"message\":\"Bob\"})"
   ]
  },
  {
   "cell_type": "code",
   "execution_count": 6,
   "metadata": {},
   "outputs": [
    {
     "data": {
      "text/plain": [
       "'HeyBob, how is your day going?'"
      ]
     },
     "execution_count": 6,
     "metadata": {},
     "output_type": "execute_result"
    }
   ],
   "source": [
    "result[\"message\"]"
   ]
  },
  {
   "cell_type": "code",
   "execution_count": 7,
   "metadata": {},
   "outputs": [],
   "source": [
    "from typing import TypedDict\n",
    "from langgraph.graph import StateGraph\n",
    "\n",
    "class Compliment(TypedDict):  # Our state schema\n",
    "    name: str\n",
    "    message: str  # Add this field\n"
   ]
  },
  {
   "cell_type": "code",
   "execution_count": 8,
   "metadata": {},
   "outputs": [],
   "source": [
    "def compliment_node(state: Compliment) -> Compliment:\n",
    "    \"\"\"Simple function to compliment\"\"\"\n",
    "    # Initialize message if not present\n",
    "    if \"message\" not in state:\n",
    "        state[\"message\"] = \"\"\n",
    "\n",
    "    state[\"message\"] += f\"Hello {state.get('name', 'there')}! You are doing an Amazing job.\"\n",
    "    return state\n"
   ]
  },
  {
   "cell_type": "code",
   "execution_count": 9,
   "metadata": {},
   "outputs": [],
   "source": [
    "graph= StateGraph(Compliment)\n",
    "graph.add_node(\"Complimenter\",compliment_node)\n",
    "graph.set_entry_point(\"Complimenter\")\n",
    "graph.set_finish_point(\"Complimenter\")\n",
    "app = graph.compile()"
   ]
  },
  {
   "cell_type": "code",
   "execution_count": 10,
   "metadata": {},
   "outputs": [],
   "source": [
    "result = app.invoke({\"name\": \"abhigna\", \"message\": \"\"})\n"
   ]
  },
  {
   "cell_type": "code",
   "execution_count": 11,
   "metadata": {},
   "outputs": [
    {
     "data": {
      "text/plain": [
       "'Hello abhigna! You are doing an Amazing job.'"
      ]
     },
     "execution_count": 11,
     "metadata": {},
     "output_type": "execute_result"
    }
   ],
   "source": [
    "result['message']"
   ]
  },
  {
   "cell_type": "code",
   "execution_count": null,
   "metadata": {},
   "outputs": [],
   "source": []
  }
 ],
 "metadata": {
  "kernelspec": {
   "display_name": "langgraph-env",
   "language": "python",
   "name": "python3"
  },
  "language_info": {
   "codemirror_mode": {
    "name": "ipython",
    "version": 3
   },
   "file_extension": ".py",
   "mimetype": "text/x-python",
   "name": "python",
   "nbconvert_exporter": "python",
   "pygments_lexer": "ipython3",
   "version": "3.10.12"
  }
 },
 "nbformat": 4,
 "nbformat_minor": 2
}
