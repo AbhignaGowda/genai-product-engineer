{
 "cells": [
  {
   "cell_type": "code",
   "execution_count": 1,
   "metadata": {},
   "outputs": [],
   "source": [
    "from typing import TypedDict, List\n",
    "from langgraph.graph import StateGraph"
   ]
  },
  {
   "cell_type": "code",
   "execution_count": 5,
   "metadata": {},
   "outputs": [],
   "source": [
    "class AgentState(TypedDict):\n",
    "    values:List[int]\n",
    "    name:str\n",
    "    result:str"
   ]
  },
  {
   "cell_type": "code",
   "execution_count": 9,
   "metadata": {},
   "outputs": [],
   "source": [
    "def process_values(state:AgentState)->AgentState:\n",
    "    \"\"\"\"This Function handels multiple different inputs\"\"\"\n",
    "\n",
    "    state[\"result\"]= f\"Hi There {state['name']}! Your sum ={sum(state['values'])} \"\n",
    "    return state"
   ]
  },
  {
   "cell_type": "code",
   "execution_count": 13,
   "metadata": {},
   "outputs": [],
   "source": [
    "graph=StateGraph(AgentState)\n",
    "graph.add_node(\"processor\",process_values) \n",
    "graph.set_entry_point(\"processor\")#Set the strart node\n",
    "graph.set_finish_point(\"processor\")#Set the ending node\n",
    "app =graph.compile()#Complie the node"
   ]
  },
  {
   "cell_type": "code",
   "execution_count": 14,
   "metadata": {},
   "outputs": [],
   "source": [
    "answers =app.invoke({\"values\": [1,2,3,4],\"name\":\"Steve\"})"
   ]
  },
  {
   "cell_type": "code",
   "execution_count": 16,
   "metadata": {},
   "outputs": [
    {
     "name": "stdout",
     "output_type": "stream",
     "text": [
      "{'values': [1, 2, 3, 4], 'name': 'Steve', 'result': 'Hi There Steve! Your sum =10 '}\n"
     ]
    }
   ],
   "source": [
    "print(answers['result'])"
   ]
  },
  {
   "cell_type": "code",
   "execution_count": 34,
   "metadata": {},
   "outputs": [],
   "source": [
    "from typing import TypedDict, List,Literal\n",
    "from langgraph.graph import StateGraph\n",
    "from functools import reduce"
   ]
  },
  {
   "cell_type": "code",
   "execution_count": 40,
   "metadata": {},
   "outputs": [],
   "source": [
    "\n",
    "class OperationAgent(TypedDict):\n",
    "    name: str\n",
    "    values: List[int]\n",
    "    operation: Literal['+', '-', '*', '/']\n",
    "    result: str\n"
   ]
  },
  {
   "cell_type": "code",
   "execution_count": 41,
   "metadata": {},
   "outputs": [],
   "source": [
    "def operate(state: OperationAgent) -> OperationAgent:\n",
    "    \"\"\"This function handles multiple operations.\"\"\"\n",
    "    values = state[\"values\"]\n",
    "    op = state[\"operation\"]\n",
    "\n",
    "    if not values:\n",
    "        result_value = None\n",
    "    elif op == '+':\n",
    "        result_value = sum(values)\n",
    "    elif op == '-':\n",
    "        result_value = values[0] - sum(values[1:]) if len(values) > 1 else values[0]\n",
    "    elif op == '*':\n",
    "        result_value = 1\n",
    "        for v in values:\n",
    "            result_value *= v\n",
    "    elif op == '/':\n",
    "        result_value = values[0]\n",
    "        for v in values[1:]:\n",
    "            result_value /= v\n",
    "    else:\n",
    "        result_value = None\n",
    "\n",
    "    state['result'] = (\n",
    "        f\"Hi There {state['name']} your total after {op} is {result_value}\"\n",
    "    )\n",
    "    return state\n"
   ]
  },
  {
   "cell_type": "code",
   "execution_count": 42,
   "metadata": {},
   "outputs": [],
   "source": [
    "graph =StateGraph(OperationAgent)\n",
    "graph.add_node(\"operation\",operate)\n",
    "graph.set_entry_point(\"operation\")\n",
    "graph.set_finish_point(\"operation\")\n",
    "app=graph.compile()"
   ]
  },
  {
   "cell_type": "code",
   "execution_count": 45,
   "metadata": {},
   "outputs": [],
   "source": [
    "ans=app.invoke({\"name\":\"abhigna\",\"values\":[1,3],\"operation\" :\"+\"})"
   ]
  },
  {
   "cell_type": "code",
   "execution_count": 46,
   "metadata": {},
   "outputs": [
    {
     "name": "stdout",
     "output_type": "stream",
     "text": [
      "Hi There abhigna your total after + is 4\n"
     ]
    }
   ],
   "source": [
    "print(ans['result'])"
   ]
  },
  {
   "cell_type": "code",
   "execution_count": null,
   "metadata": {},
   "outputs": [],
   "source": []
  }
 ],
 "metadata": {
  "kernelspec": {
   "display_name": "langgraph-env",
   "language": "python",
   "name": "python3"
  },
  "language_info": {
   "codemirror_mode": {
    "name": "ipython",
    "version": 3
   },
   "file_extension": ".py",
   "mimetype": "text/x-python",
   "name": "python",
   "nbconvert_exporter": "python",
   "pygments_lexer": "ipython3",
   "version": "3.10.12"
  }
 },
 "nbformat": 4,
 "nbformat_minor": 2
}
