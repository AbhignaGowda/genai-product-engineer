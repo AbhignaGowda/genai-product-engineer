{
 "cells": [
  {
   "cell_type": "code",
   "execution_count": 2,
   "metadata": {},
   "outputs": [],
   "source": [
    "from typing import TypedDict, List\n",
    "from langgraph.graph import StateGraph"
   ]
  },
  {
   "cell_type": "code",
   "execution_count": 7,
   "metadata": {},
   "outputs": [],
   "source": [
    "class AgentState(TypedDict):\n",
    "    name:str\n",
    "    age:str\n",
    "    final:str\n",
    "    skills: List\n"
   ]
  },
  {
   "cell_type": "code",
   "execution_count": 12,
   "metadata": {},
   "outputs": [],
   "source": [
    "def first_node(state:AgentState)->AgentState:\n",
    "    \"\"\" This is the first node of our sequence\"\"\"\n",
    "\n",
    "    state[\"final\"]= f\"Hi {state['name']} !\"\n",
    "\n",
    "    return state\n",
    "\n",
    "def second_node(state: AgentState)-> AgentState:\n",
    "    \"\"\" This is the second node of our sequence\"\"\"\n",
    "\n",
    "    state[\"final\"]+= f\"You are {state['age']} years old!\"\n",
    "    return state\n",
    "\n",
    "def third_node(state:AgentState)-> AgentState:\n",
    "     \"\"\" This is the third of sequence\"\"\"\n",
    "     state['final']+=f\" You have skills in{state['skills']}\"\n",
    "     return state\n"
   ]
  },
  {
   "cell_type": "code",
   "execution_count": 9,
   "metadata": {},
   "outputs": [],
   "source": [
    "graph = StateGraph(AgentState)\n",
    "\n",
    "graph.add_node(\"first_node\",first_node)\n",
    "graph.add_node(\"second_node\",second_node)\n",
    "graph.add_node(\"third_node\",third_node)\n",
    "\n",
    "\n",
    "graph.set_entry_point(\"first_node\")\n",
    "\n",
    "graph.add_edge(\"first_node\",\"second_node\")\n",
    "graph.add_edge(\"second_node\",\"third_node\")\n",
    "graph.set_finish_point(\"third_node\")\n",
    "\n",
    "app=graph.compile()"
   ]
  },
  {
   "cell_type": "code",
   "execution_count": 10,
   "metadata": {},
   "outputs": [
    {
     "name": "stdout",
     "output_type": "stream",
     "text": [
      "Hi Charlie !You are 20 years old! You have skills in :['html', 'css ', 'js']\n"
     ]
    }
   ],
   "source": [
    "result = app.invoke({\"name\":\"Charlie\" , \"age\":20 ,\"skills\":['html','css ', 'js']})\n",
    "print(result[\"final\"])"
   ]
  },
  {
   "cell_type": "code",
   "execution_count": 1,
   "metadata": {},
   "outputs": [
    {
     "data": {
      "text/plain": [
       "2"
      ]
     },
     "execution_count": 1,
     "metadata": {},
     "output_type": "execute_result"
    }
   ],
   "source": []
  },
  {
   "cell_type": "code",
   "execution_count": null,
   "metadata": {},
   "outputs": [],
   "source": []
  }
 ],
 "metadata": {
  "kernelspec": {
   "display_name": "langgraph-env",
   "language": "python",
   "name": "python3"
  },
  "language_info": {
   "codemirror_mode": {
    "name": "ipython",
    "version": 3
   },
   "file_extension": ".py",
   "mimetype": "text/x-python",
   "name": "python",
   "nbconvert_exporter": "python",
   "pygments_lexer": "ipython3",
   "version": "3.10.12"
  }
 },
 "nbformat": 4,
 "nbformat_minor": 2
}
